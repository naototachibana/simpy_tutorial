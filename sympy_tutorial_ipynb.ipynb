{
  "nbformat": 4,
  "nbformat_minor": 0,
  "metadata": {
    "colab": {
      "name": "sympy_tutorial.ipynb のコピー",
      "version": "0.3.2",
      "provenance": [],
      "include_colab_link": true
    },
    "kernelspec": {
      "name": "python3",
      "display_name": "Python 3"
    }
  },
  "cells": [
    {
      "cell_type": "markdown",
      "metadata": {
        "id": "view-in-github",
        "colab_type": "text"
      },
      "source": [
        "<a href=\"https://colab.research.google.com/github/naototachibana/sympy_tutorial/blob/master/sympy_tutorial_ipynb.ipynb\" target=\"_parent\"><img src=\"https://colab.research.google.com/assets/colab-badge.svg\" alt=\"Open In Colab\"/></a>"
      ]
    },
    {
      "cell_type": "markdown",
      "metadata": {
        "id": "SPCjZWACLgDT",
        "colab_type": "text"
      },
      "source": [
        "# import と変数, 式の定義\n",
        "\n",
        "sympy.Symbol で sympy で扱える変数を定義する"
      ]
    },
    {
      "cell_type": "code",
      "metadata": {
        "id": "OwQgjA8kLiU2",
        "colab_type": "code",
        "outputId": "5d91130d-c4be-4320-8f3f-4a56ede4e27b",
        "colab": {
          "base_uri": "https://localhost:8080/",
          "height": 34
        }
      },
      "source": [
        "import sympy\n",
        "\n",
        "x = sympy.Symbol('x')\n",
        "y = sympy.Symbol('y')\n",
        "\n",
        "print(type(x))\n",
        "# <class 'sympy.core.symbol.Symbol'>"
      ],
      "execution_count": 0,
      "outputs": [
        {
          "output_type": "stream",
          "text": [
            "<class 'sympy.core.symbol.Symbol'>\n"
          ],
          "name": "stdout"
        }
      ]
    },
    {
      "cell_type": "code",
      "metadata": {
        "id": "nRg4MJ2dOisD",
        "colab_type": "code",
        "outputId": "83f82bde-6cbd-4a89-d90e-e29d2241c9ef",
        "colab": {
          "base_uri": "https://localhost:8080/",
          "height": 34
        }
      },
      "source": [
        "#変数の名称とsympy.symbol()の引数に渡す文字列は違っていてもいいが、分かりにくくなるだけなので、同じものにしておいたほうが無難。\n",
        "z = sympy.Symbol('ZZZZ')\n",
        "\n",
        "expr_z = z**2 + 3 * z\n",
        "\n",
        "print(expr_z)\n",
        "# ZZZZ**2 + 3*ZZZZ"
      ],
      "execution_count": 0,
      "outputs": [
        {
          "output_type": "stream",
          "text": [
            "ZZZZ**2 + 3*ZZZZ\n"
          ],
          "name": "stdout"
        }
      ]
    },
    {
      "cell_type": "code",
      "metadata": {
        "id": "KDj30OzSOM0P",
        "colab_type": "code",
        "outputId": "160df348-284c-494b-8967-53990fb01df0",
        "colab": {
          "base_uri": "https://localhost:8080/",
          "height": 34
        }
      },
      "source": [
        "input_formula = (x**105 -1)\n",
        "\n",
        "print(input_formula)\n"
      ],
      "execution_count": 0,
      "outputs": [
        {
          "output_type": "stream",
          "text": [
            "x**105 - 1\n"
          ],
          "name": "stdout"
        }
      ]
    },
    {
      "cell_type": "markdown",
      "metadata": {
        "id": "U3x6Go0pOpoc",
        "colab_type": "text"
      },
      "source": [
        "変数に値を代入: subs()メソッド\n",
        "\n",
        "定義した式の変数に値を代入したい場合はsubs()メソッドを使う。\n",
        "\n",
        "第一引数に対象の変数、第二引数に代入する値を指定する。\n",
        "\n",
        "数値を代入したり、ほかの変数を代入したりできる。"
      ]
    },
    {
      "cell_type": "code",
      "metadata": {
        "id": "wMAcKdK0Org9",
        "colab_type": "code",
        "outputId": "ce4f2df9-f156-42f9-9ae9-e3f5a78ecf43",
        "colab": {
          "base_uri": "https://localhost:8080/",
          "height": 235
        }
      },
      "source": [
        "print(expr)\n",
        "# x**2 + y + 1\n",
        "\n",
        "print(expr.subs(x, 1))\n",
        "# y + 2\n",
        "\n",
        "print(expr.subs(x, y))\n",
        "# y**2 + y + 1"
      ],
      "execution_count": 0,
      "outputs": [
        {
          "output_type": "error",
          "ename": "NameError",
          "evalue": "ignored",
          "traceback": [
            "\u001b[0;31m---------------------------------------------------------------------------\u001b[0m",
            "\u001b[0;31mNameError\u001b[0m                                 Traceback (most recent call last)",
            "\u001b[0;32m<ipython-input-5-21cf7bc8fa4a>\u001b[0m in \u001b[0;36m<module>\u001b[0;34m()\u001b[0m\n\u001b[0;32m----> 1\u001b[0;31m \u001b[0mprint\u001b[0m\u001b[0;34m(\u001b[0m\u001b[0mexpr\u001b[0m\u001b[0;34m)\u001b[0m\u001b[0;34m\u001b[0m\u001b[0;34m\u001b[0m\u001b[0m\n\u001b[0m\u001b[1;32m      2\u001b[0m \u001b[0;31m# x**2 + y + 1\u001b[0m\u001b[0;34m\u001b[0m\u001b[0;34m\u001b[0m\u001b[0;34m\u001b[0m\u001b[0m\n\u001b[1;32m      3\u001b[0m \u001b[0;34m\u001b[0m\u001b[0m\n\u001b[1;32m      4\u001b[0m \u001b[0mprint\u001b[0m\u001b[0;34m(\u001b[0m\u001b[0mexpr\u001b[0m\u001b[0;34m.\u001b[0m\u001b[0msubs\u001b[0m\u001b[0;34m(\u001b[0m\u001b[0mx\u001b[0m\u001b[0;34m,\u001b[0m \u001b[0;36m1\u001b[0m\u001b[0;34m)\u001b[0m\u001b[0;34m)\u001b[0m\u001b[0;34m\u001b[0m\u001b[0;34m\u001b[0m\u001b[0m\n\u001b[1;32m      5\u001b[0m \u001b[0;31m# y + 2\u001b[0m\u001b[0;34m\u001b[0m\u001b[0;34m\u001b[0m\u001b[0;34m\u001b[0m\u001b[0m\n",
            "\u001b[0;31mNameError\u001b[0m: name 'expr' is not defined"
          ]
        }
      ]
    }
  ]
}