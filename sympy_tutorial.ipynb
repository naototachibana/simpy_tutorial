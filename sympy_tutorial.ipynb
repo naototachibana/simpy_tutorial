{
  "nbformat": 4,
  "nbformat_minor": 0,
  "metadata": {
    "colab": {
      "name": "sympy_tutorial.ipynb のコピー",
      "version": "0.3.2",
      "provenance": []
    },
    "kernelspec": {
      "name": "python3",
      "display_name": "Python 3"
    }
  },
  "cells": [
    {
      "cell_type": "markdown",
      "metadata": {
        "id": "SPCjZWACLgDT",
        "colab_type": "text"
      },
      "source": [
        "# import と変数, 式の定義\n",
        "\n",
        "sympy.Symbol で sympy で扱える変数を定義する"
      ]
    },
    {
      "cell_type": "code",
      "metadata": {
        "id": "OwQgjA8kLiU2",
        "colab_type": "code",
        "outputId": "b2655005-4170-47eb-a93b-add9c5b8a310",
        "colab": {
          "base_uri": "https://localhost:8080/",
          "height": 34
        }
      },
      "source": [
        "import sympy\n",
        "from sympy import init_session\n",
        "from sympy import init_printing\n",
        "\n",
        "x = sympy.Symbol('x')\n",
        "y = sympy.Symbol('y')\n",
        "\n",
        "print(type(x))\n",
        "# <class 'sympy.core.symbol.Symbol'>"
      ],
      "execution_count": 2,
      "outputs": [
        {
          "output_type": "stream",
          "text": [
            "<class 'sympy.core.symbol.Symbol'>\n"
          ],
          "name": "stdout"
        }
      ]
    },
    {
      "cell_type": "code",
      "metadata": {
        "id": "nRg4MJ2dOisD",
        "colab_type": "code",
        "outputId": "35477054-6bb3-45a3-fc04-134560fd1d41",
        "colab": {
          "base_uri": "https://localhost:8080/",
          "height": 34
        }
      },
      "source": [
        "#変数の名称とsympy.symbol()の引数に渡す文字列は違っていてもいいが、分かりにくくなるだけなので、同じものにしておいたほうが無難。\n",
        "z = sympy.Symbol('ZZZZ')\n",
        "\n",
        "expr_z = z**2 + 3 * z\n",
        "\n",
        "print(expr_z)\n",
        "# ZZZZ**2 + 3*ZZZZ"
      ],
      "execution_count": 3,
      "outputs": [
        {
          "output_type": "stream",
          "text": [
            "ZZZZ**2 + 3*ZZZZ\n"
          ],
          "name": "stdout"
        }
      ]
    },
    {
      "cell_type": "markdown",
      "metadata": {
        "id": "U3x6Go0pOpoc",
        "colab_type": "text"
      },
      "source": [
        "変数に値を代入: subs()メソッド\n",
        "\n",
        "定義した式の変数に値を代入したい場合はsubs()メソッドを使う。\n",
        "\n",
        "第一引数に対象の変数、第二引数に代入する値を指定する。\n",
        "\n",
        "数値を代入したり、ほかの変数を代入したりできる。"
      ]
    },
    {
      "cell_type": "code",
      "metadata": {
        "id": "wMAcKdK0Org9",
        "colab_type": "code",
        "outputId": "47aedc9a-733b-4ca7-fc30-412a39211f37",
        "colab": {
          "base_uri": "https://localhost:8080/",
          "height": 69
        }
      },
      "source": [
        "expr = x**2 + y + 1\n",
        "\n",
        "print(expr)\n",
        "# x**2 + y + 1\n",
        "\n",
        "print(expr.subs(x, 1))\n",
        "# y + 2\n",
        "\n",
        "print(expr.subs(x, y))\n",
        "# y**2 + y + 1"
      ],
      "execution_count": 4,
      "outputs": [
        {
          "output_type": "stream",
          "text": [
            "x**2 + y + 1\n",
            "y + 2\n",
            "y**2 + y + 1\n"
          ],
          "name": "stdout"
        }
      ]
    },
    {
      "cell_type": "code",
      "metadata": {
        "id": "uwEp7oXiQMmH",
        "colab_type": "code",
        "outputId": "92ddc839-4ec7-4ad8-ec77-06505eb9c998",
        "colab": {
          "base_uri": "https://localhost:8080/",
          "height": 34
        }
      },
      "source": [
        "print(expr.subs([(x, 1), (y, 2)]))\n",
        "# 4"
      ],
      "execution_count": 0,
      "outputs": [
        {
          "output_type": "stream",
          "text": [
            "4\n"
          ],
          "name": "stdout"
        }
      ]
    },
    {
      "cell_type": "code",
      "metadata": {
        "id": "PNFByy3YQTlQ",
        "colab_type": "code",
        "outputId": "fec20192-09b2-40c1-b3b8-8b3cb91d1956",
        "colab": {
          "base_uri": "https://localhost:8080/",
          "height": 34
        }
      },
      "source": [
        "input_formula = (x**105 -1)\n",
        "init_printing()\n",
        "input_formula"
      ],
      "execution_count": 7,
      "outputs": [
        {
          "output_type": "execute_result",
          "data": {
            "image/png": "[encoded data removed]",
            "text/latex": "$$x^{105} - 1$$",
            "text/plain": [
              " 105    \n",
              "x    - 1"
            ]
          },
          "metadata": {
            "tags": []
          },
          "execution_count": 7
        }
      ]
    },
    {
      "cell_type": "markdown",
      "metadata": {
        "id": "UK_HtIvYR3qN",
        "colab_type": "text"
      },
      "source": [
        ""
      ]
    },
    {
      "cell_type": "code",
      "metadata": {
        "id": "GaL_BSEBQ4N_",
        "colab_type": "code",
        "outputId": "0d0c802a-2675-4812-86eb-ef762b5bb18d",
        "colab": {
          "base_uri": "https://localhost:8080/",
          "height": 86
        }
      },
      "source": [
        "factor = sympy.factor(input_formula)\n",
        "init_printing()\n",
        "factor"
      ],
      "execution_count": 8,
      "outputs": [
        {
          "output_type": "execute_result",
          "data": {
            "image/png": "[encoded data removed]",
            "text/latex": "$$\\left(x - 1\\right) \\left(x^{2} + x + 1\\right) \\left(x^{4} + x^{3} + x^{2} + x + 1\\right) \\left(x^{6} + x^{5} + x^{4} + x^{3} + x^{2} + x + 1\\right) \\left(x^{8} - x^{7} + x^{5} - x^{4} + x^{3} - x + 1\\right) \\left(x^{12} - x^{11} + x^{9} - x^{8} + x^{6} - x^{4} + x^{3} - x + 1\\right) \\left(x^{24} - x^{23} + x^{19} - x^{18} + x^{17} - x^{16} + x^{14} - x^{13} + x^{12} - x^{11} + x^{10} - x^{8} + x^{7} - x^{6} + x^{5} - x + 1\\right) \\left(x^{48} + x^{47} + x^{46} - x^{43} - x^{42} - 2 x^{41} - x^{40} - x^{39} + x^{36} + x^{35} + x^{34} + x^{33} + x^{32} + x^{31} - x^{28} - x^{26} - x^{24} - x^{22} - x^{20} + x^{17} + x^{16} + x^{15} + x^{14} + x^{13} + x^{12} - x^{9} - x^{8} - 2 x^{7} - x^{6} - x^{5} + x^{2} + x + 1\\right)$$",
            "text/plain": [
              "        ⎛ 2        ⎞ ⎛ 4    3    2        ⎞ ⎛ 6    5    4    3    2        ⎞ ⎛\n",
              "(x - 1)⋅⎝x  + x + 1⎠⋅⎝x  + x  + x  + x + 1⎠⋅⎝x  + x  + x  + x  + x  + x + 1⎠⋅⎝\n",
              "\n",
              " 8    7    5    4    3        ⎞ ⎛ 12    11    9    8    6    4    3        ⎞ ⎛\n",
              "x  - x  + x  - x  + x  - x + 1⎠⋅⎝x   - x   + x  - x  + x  - x  + x  - x + 1⎠⋅⎝\n",
              "\n",
              " 24    23    19    18    17    16    14    13    12    11    10    8    7    6\n",
              "x   - x   + x   - x   + x   - x   + x   - x   + x   - x   + x   - x  + x  - x \n",
              "\n",
              "    5        ⎞ ⎛ 48    47    46    43    42      41    40    39    36    35   \n",
              " + x  - x + 1⎠⋅⎝x   + x   + x   - x   - x   - 2⋅x   - x   - x   + x   + x   + \n",
              "\n",
              " 34    33    32    31    28    26    24    22    20    17    16    15    14   \n",
              "x   + x   + x   + x   - x   - x   - x   - x   - x   + x   + x   + x   + x   + \n",
              "\n",
              " 13    12    9    8      7    6    5    2        ⎞\n",
              "x   + x   - x  - x  - 2⋅x  - x  - x  + x  + x + 1⎠"
            ]
          },
          "metadata": {
            "tags": []
          },
          "execution_count": 8
        }
      ]
    },
    {
      "cell_type": "markdown",
      "metadata": {
        "id": "99sIYUycRweC",
        "colab_type": "text"
      },
      "source": [
        "# 最終的な結果\n",
        "$$\n",
        "(x^{105}-1)=\\left(x - 1\\right) \\left(x^{2} + x + 1\\right) \\left(x^{4} + x^{3} + x^{2} + x + 1\\right) \\left(x^{6} + x^{5} + x^{4} + x^{3} + x^{2} + x + 1\\right) \\left(x^{8} - x^{7} + x^{5} - x^{4} + x^{3} - x + 1\\right) \\left(x^{12} - x^{11} + x^{9} - x^{8} + x^{6} - x^{4} + x^{3} - x + 1\\right) \\left(x^{24} - x^{23} + x^{19} - x^{18} + x^{17} - x^{16} + x^{14} - x^{13} + x^{12} - x^{11} + x^{10} - x^{8} + x^{7} - x^{6} + x^{5} - x + 1\\right) \\left(x^{48} + x^{47} + x^{46} - x^{43} - x^{42} - 2 x^{41} - x^{40} - x^{39} + x^{36} + x^{35} + x^{34} + x^{33} + x^{32} + x^{31} - x^{28} - x^{26} - x^{24} - x^{22} - x^{20} + x^{17} + x^{16} + x^{15} + x^{14} + x^{13} + x^{12} - x^{9} - x^{8} - 2 x^{7} - x^{6} - x^{5} + x^{2} + x + 1\\right)\n",
        "$$"
      ]
    }
  ]
}